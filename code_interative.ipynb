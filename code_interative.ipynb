{
 "cells": [
  {
   "cell_type": "code",
   "execution_count": 1,
   "metadata": {},
   "outputs": [],
   "source": [
    "import nltk\n",
    "import pandas as pd\n",
    "from nltk.corpus import stopwords\n",
    "from collections import Counter\n",
    "from convokit import Corpus, download\n",
    "import matplotlib.pyplot as plt\n",
    "from collections import Counter\n",
    "import ast"
   ]
  },
  {
   "cell_type": "code",
   "execution_count": 2,
   "metadata": {},
   "outputs": [],
   "source": [
    "# Load the Cornell Movie--Dialogs Corpus. Replace with your own path to the corpus.\n",
    "movie_corpus = Corpus(filename='/Users/adnanchowdhury/Documents/AIT526/term_project/movie-corpus')\n",
    "movie_corpus.load_info('movie-corpus')"
   ]
  },
  {
   "cell_type": "code",
   "execution_count": 17,
   "metadata": {},
   "outputs": [],
   "source": [
    "# For each conversation in the movie corpus, get a frequency distribution of genre\n",
    "df2 = movie_corpus.get_conversations_dataframe()"
   ]
  },
  {
   "cell_type": "code",
   "execution_count": 16,
   "metadata": {},
   "outputs": [],
   "source": [
    "df1 = movie_corpus.get_utterances_dataframe()"
   ]
  },
  {
   "cell_type": "code",
   "execution_count": 14,
   "metadata": {},
   "outputs": [],
   "source": [
    "from afinn import Afinn\n",
    "afinn = Afinn()"
   ]
  },
  {
   "cell_type": "code",
   "execution_count": 15,
   "metadata": {},
   "outputs": [],
   "source": [
    "# Define a function to compute sentiment score\n",
    "def compute_sentiment(text):\n",
    "    tokens = text.split()  # Simple tokenization, consider using a more sophisticated tokenizer\n",
    "    sentence_score = sum(afinn.score(token) for token in tokens)\n",
    "    if 'not' in tokens:\n",
    "        sentence_score = -sentence_score  # Handle negation\n",
    "    return sentence_score"
   ]
  },
  {
   "cell_type": "code",
   "execution_count": 18,
   "metadata": {},
   "outputs": [],
   "source": [
    "merged_df = pd.merge(df1, df2, left_on='meta.movie_id', right_on='meta.movie_idx', how='left')\n"
   ]
  },
  {
   "cell_type": "code",
   "execution_count": 29,
   "metadata": {},
   "outputs": [
    {
     "name": "stdout",
     "output_type": "stream",
     "text": [
      "The DataFrame has 47439624 rows and 15 columns.\n",
      "\n",
      "DataFrame Summary:\n",
      "<class 'pandas.core.frame.DataFrame'>\n",
      "Int64Index: 47439624 entries, 0 to 47439623\n",
      "Data columns (total 15 columns):\n",
      " #   Column             Dtype \n",
      "---  ------             ----- \n",
      " 0   timestamp          object\n",
      " 1   text               object\n",
      " 2   speaker            object\n",
      " 3   reply_to           object\n",
      " 4   conversation_id    object\n",
      " 5   meta.movie_id      object\n",
      " 6   meta.parsed        object\n",
      " 7   vectors_x          object\n",
      " 8   vectors_y          object\n",
      " 9   meta.movie_idx     object\n",
      " 10  meta.movie_name    object\n",
      " 11  meta.release_year  object\n",
      " 12  meta.rating        object\n",
      " 13  meta.votes         object\n",
      " 14  meta.genre         object\n",
      "dtypes: object(15)\n",
      "memory usage: 5.7+ GB\n"
     ]
    }
   ],
   "source": [
    "# Print the number of rows and columns in the DataFrame\n",
    "rows, columns = merged_df.shape\n",
    "print(f\"The DataFrame has {rows} rows and {columns} columns.\")\n",
    "\n",
    "# Print a concise summary of the DataFrame\n",
    "print(\"\\nDataFrame Summary:\")\n",
    "merged_df.info()\n"
   ]
  },
  {
   "cell_type": "code",
   "execution_count": 53,
   "metadata": {},
   "outputs": [],
   "source": [
    "# Reduce merged_df to 100 rows for illustration purposes\n",
    "merged_df_rdc = merged_df[:100]"
   ]
  },
  {
   "cell_type": "code",
   "execution_count": 54,
   "metadata": {},
   "outputs": [
    {
     "name": "stdout",
     "output_type": "stream",
     "text": [
      "   timestamp          text speaker reply_to conversation_id meta.movie_id  \\\n",
      "0       None  They do not!      u0    L1044           L1044            m0   \n",
      "1       None  They do not!      u0    L1044           L1044            m0   \n",
      "2       None  They do not!      u0    L1044           L1044            m0   \n",
      "3       None  They do not!      u0    L1044           L1044            m0   \n",
      "4       None  They do not!      u0    L1044           L1044            m0   \n",
      "..       ...           ...     ...      ...             ...           ...   \n",
      "95      None  They do not!      u0    L1044           L1044            m0   \n",
      "96      None  They do not!      u0    L1044           L1044            m0   \n",
      "97      None  They do not!      u0    L1044           L1044            m0   \n",
      "98      None  They do not!      u0    L1044           L1044            m0   \n",
      "99      None  They do not!      u0    L1044           L1044            m0   \n",
      "\n",
      "                                          meta.parsed vectors_x vectors_y  \\\n",
      "0   [{'rt': 1, 'toks': [{'tok': 'They', 'tag': 'PR...        []        []   \n",
      "1   [{'rt': 1, 'toks': [{'tok': 'They', 'tag': 'PR...        []        []   \n",
      "2   [{'rt': 1, 'toks': [{'tok': 'They', 'tag': 'PR...        []        []   \n",
      "3   [{'rt': 1, 'toks': [{'tok': 'They', 'tag': 'PR...        []        []   \n",
      "4   [{'rt': 1, 'toks': [{'tok': 'They', 'tag': 'PR...        []        []   \n",
      "..                                                ...       ...       ...   \n",
      "95  [{'rt': 1, 'toks': [{'tok': 'They', 'tag': 'PR...        []        []   \n",
      "96  [{'rt': 1, 'toks': [{'tok': 'They', 'tag': 'PR...        []        []   \n",
      "97  [{'rt': 1, 'toks': [{'tok': 'They', 'tag': 'PR...        []        []   \n",
      "98  [{'rt': 1, 'toks': [{'tok': 'They', 'tag': 'PR...        []        []   \n",
      "99  [{'rt': 1, 'toks': [{'tok': 'They', 'tag': 'PR...        []        []   \n",
      "\n",
      "   meta.movie_idx             meta.movie_name meta.release_year meta.rating  \\\n",
      "0              m0  10 things i hate about you              1999        6.90   \n",
      "1              m0  10 things i hate about you              1999        6.90   \n",
      "2              m0  10 things i hate about you              1999        6.90   \n",
      "3              m0  10 things i hate about you              1999        6.90   \n",
      "4              m0  10 things i hate about you              1999        6.90   \n",
      "..            ...                         ...               ...         ...   \n",
      "95             m0  10 things i hate about you              1999        6.90   \n",
      "96             m0  10 things i hate about you              1999        6.90   \n",
      "97             m0  10 things i hate about you              1999        6.90   \n",
      "98             m0  10 things i hate about you              1999        6.90   \n",
      "99             m0  10 things i hate about you              1999        6.90   \n",
      "\n",
      "   meta.votes             meta.genre  \n",
      "0       62847  ['comedy', 'romance']  \n",
      "1       62847  ['comedy', 'romance']  \n",
      "2       62847  ['comedy', 'romance']  \n",
      "3       62847  ['comedy', 'romance']  \n",
      "4       62847  ['comedy', 'romance']  \n",
      "..        ...                    ...  \n",
      "95      62847  ['comedy', 'romance']  \n",
      "96      62847  ['comedy', 'romance']  \n",
      "97      62847  ['comedy', 'romance']  \n",
      "98      62847  ['comedy', 'romance']  \n",
      "99      62847  ['comedy', 'romance']  \n",
      "\n",
      "[100 rows x 15 columns]\n"
     ]
    }
   ],
   "source": [
    "print(merged_df_rdc)"
   ]
  },
  {
   "cell_type": "code",
   "execution_count": null,
   "metadata": {},
   "outputs": [],
   "source": []
  },
  {
   "cell_type": "markdown",
   "metadata": {},
   "source": []
  },
  {
   "cell_type": "code",
   "execution_count": 55,
   "metadata": {},
   "outputs": [
    {
     "name": "stderr",
     "output_type": "stream",
     "text": [
      "/Users/adnanchowdhury/Documents/AIT526/.venv/lib/python3.7/site-packages/ipykernel_launcher.py:2: SettingWithCopyWarning: \n",
      "A value is trying to be set on a copy of a slice from a DataFrame.\n",
      "Try using .loc[row_indexer,col_indexer] = value instead\n",
      "\n",
      "See the caveats in the documentation: https://pandas.pydata.org/pandas-docs/stable/user_guide/indexing.html#returning-a-view-versus-a-copy\n",
      "  \n",
      "/Users/adnanchowdhury/Documents/AIT526/.venv/lib/python3.7/site-packages/ipykernel_launcher.py:3: SettingWithCopyWarning: \n",
      "A value is trying to be set on a copy of a slice from a DataFrame.\n",
      "Try using .loc[row_indexer,col_indexer] = value instead\n",
      "\n",
      "See the caveats in the documentation: https://pandas.pydata.org/pandas-docs/stable/user_guide/indexing.html#returning-a-view-versus-a-copy\n",
      "  This is separate from the ipykernel package so we can avoid doing imports until\n"
     ]
    }
   ],
   "source": [
    "# Apply the function to compute sentiment scores and categorize them\n",
    "merged_df_rdc['sentiment_score'] = merged_df_rdc['text'].apply(compute_sentiment)\n",
    "merged_df_rdc['sentiment_category'] = merged_df_rdc['sentiment_score'].apply(lambda score: 'Positive' if score > 0 else 'Negative' if score < 0 else 'Neutral')"
   ]
  },
  {
   "cell_type": "code",
   "execution_count": 44,
   "metadata": {},
   "outputs": [],
   "source": []
  },
  {
   "cell_type": "code",
   "execution_count": 56,
   "metadata": {},
   "outputs": [
    {
     "name": "stdout",
     "output_type": "stream",
     "text": [
      "            text             meta.movie_name  sentiment_score  \\\n",
      "0   They do not!  10 things i hate about you              0.0   \n",
      "1   They do not!  10 things i hate about you              0.0   \n",
      "2   They do not!  10 things i hate about you              0.0   \n",
      "3   They do not!  10 things i hate about you              0.0   \n",
      "4   They do not!  10 things i hate about you              0.0   \n",
      "..           ...                         ...              ...   \n",
      "95  They do not!  10 things i hate about you              0.0   \n",
      "96  They do not!  10 things i hate about you              0.0   \n",
      "97  They do not!  10 things i hate about you              0.0   \n",
      "98  They do not!  10 things i hate about you              0.0   \n",
      "99  They do not!  10 things i hate about you              0.0   \n",
      "\n",
      "   sentiment_category  \n",
      "0             Neutral  \n",
      "1             Neutral  \n",
      "2             Neutral  \n",
      "3             Neutral  \n",
      "4             Neutral  \n",
      "..                ...  \n",
      "95            Neutral  \n",
      "96            Neutral  \n",
      "97            Neutral  \n",
      "98            Neutral  \n",
      "99            Neutral  \n",
      "\n",
      "[100 rows x 4 columns]\n"
     ]
    }
   ],
   "source": [
    "print(merged_df_rdc[['text', 'meta.movie_name', 'sentiment_score', 'sentiment_category']])\n"
   ]
  },
  {
   "cell_type": "code",
   "execution_count": 57,
   "metadata": {},
   "outputs": [],
   "source": [
    "unique_movie_df = merged_df_rdc.drop_duplicates(subset='meta.movie_name')"
   ]
  },
  {
   "cell_type": "code",
   "execution_count": 58,
   "metadata": {},
   "outputs": [
    {
     "name": "stdout",
     "output_type": "stream",
     "text": [
      "           text             meta.movie_name  sentiment_score  \\\n",
      "0  They do not!  10 things i hate about you              0.0   \n",
      "\n",
      "  sentiment_category  \n",
      "0            Neutral  \n"
     ]
    }
   ],
   "source": [
    "print(unique_movie_df[['text', 'meta.movie_name', 'sentiment_score', 'sentiment_category']])\n"
   ]
  }
 ],
 "metadata": {
  "kernelspec": {
   "display_name": ".venv",
   "language": "python",
   "name": "python3"
  },
  "language_info": {
   "codemirror_mode": {
    "name": "ipython",
    "version": 3
   },
   "file_extension": ".py",
   "mimetype": "text/x-python",
   "name": "python",
   "nbconvert_exporter": "python",
   "pygments_lexer": "ipython3",
   "version": "3.7.10"
  },
  "orig_nbformat": 4
 },
 "nbformat": 4,
 "nbformat_minor": 2
}
